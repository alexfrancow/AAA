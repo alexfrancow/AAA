{
 "cells": [
  {
   "cell_type": "markdown",
   "metadata": {},
   "source": [
    "# AA\n"
   ]
  },
  {
   "cell_type": "code",
   "execution_count": null,
   "metadata": {
    "collapsed": true
   },
   "outputs": [],
   "source": []
  },
  {
   "cell_type": "markdown",
   "metadata": {},
   "source": [
    "## 1. Importación de datos"
   ]
  },
  {
   "cell_type": "code",
   "execution_count": 132,
   "metadata": {},
   "outputs": [
    {
     "data": {
      "text/html": [
       "<div>\n",
       "<style>\n",
       "    .dataframe thead tr:only-child th {\n",
       "        text-align: right;\n",
       "    }\n",
       "\n",
       "    .dataframe thead th {\n",
       "        text-align: left;\n",
       "    }\n",
       "\n",
       "    .dataframe tbody tr th {\n",
       "        vertical-align: top;\n",
       "    }\n",
       "</style>\n",
       "<table border=\"1\" class=\"dataframe\">\n",
       "  <thead>\n",
       "    <tr style=\"text-align: right;\">\n",
       "      <th></th>\n",
       "      <th>no</th>\n",
       "      <th>time</th>\n",
       "      <th>X</th>\n",
       "      <th>A</th>\n",
       "      <th>ipsrc</th>\n",
       "      <th>ipdst</th>\n",
       "      <th>proto</th>\n",
       "      <th>len</th>\n",
       "      <th>info</th>\n",
       "      <th>num</th>\n",
       "    </tr>\n",
       "  </thead>\n",
       "  <tbody>\n",
       "    <tr>\n",
       "      <th>0</th>\n",
       "      <td>1</td>\n",
       "      <td>2017-03-20 17:08:53</td>\n",
       "      <td>0s</td>\n",
       "      <td>49369  &gt;  80 [SYN] Seq=0 Win=8192 Len=0 MSS=14...</td>\n",
       "      <td>10.3.20.102</td>\n",
       "      <td>37.202.7.169</td>\n",
       "      <td>TCP</td>\n",
       "      <td>66</td>\n",
       "      <td>null</td>\n",
       "      <td>1</td>\n",
       "    </tr>\n",
       "    <tr>\n",
       "      <th>1</th>\n",
       "      <td>2</td>\n",
       "      <td>2017-03-20 17:08:54</td>\n",
       "      <td>0s</td>\n",
       "      <td>80  &gt;  49369 [SYN, ACK] Seq=0 Ack=1 Win=64240 ...</td>\n",
       "      <td>37.202.7.169</td>\n",
       "      <td>10.3.20.102</td>\n",
       "      <td>TCP</td>\n",
       "      <td>60</td>\n",
       "      <td>null</td>\n",
       "      <td>1</td>\n",
       "    </tr>\n",
       "    <tr>\n",
       "      <th>2</th>\n",
       "      <td>3</td>\n",
       "      <td>2017-03-20 17:08:54</td>\n",
       "      <td>0s</td>\n",
       "      <td>49369  &gt;  80 [ACK] Seq=1 Ack=1 Win=64240 Len=0</td>\n",
       "      <td>10.3.20.102</td>\n",
       "      <td>37.202.7.169</td>\n",
       "      <td>TCP</td>\n",
       "      <td>60</td>\n",
       "      <td>null</td>\n",
       "      <td>1</td>\n",
       "    </tr>\n",
       "  </tbody>\n",
       "</table>\n",
       "</div>"
      ],
      "text/plain": [
       "   no                 time   X  \\\n",
       "0   1  2017-03-20 17:08:53  0s   \n",
       "1   2  2017-03-20 17:08:54  0s   \n",
       "2   3  2017-03-20 17:08:54  0s   \n",
       "\n",
       "                                                   A         ipsrc  \\\n",
       "0  49369  >  80 [SYN] Seq=0 Win=8192 Len=0 MSS=14...   10.3.20.102   \n",
       "1  80  >  49369 [SYN, ACK] Seq=0 Ack=1 Win=64240 ...  37.202.7.169   \n",
       "2     49369  >  80 [ACK] Seq=1 Ack=1 Win=64240 Len=0   10.3.20.102   \n",
       "\n",
       "          ipdst proto  len  info  num  \n",
       "0  37.202.7.169   TCP   66  null    1  \n",
       "1   10.3.20.102   TCP   60  null    1  \n",
       "2  37.202.7.169   TCP   60  null    1  "
      ]
     },
     "execution_count": 132,
     "metadata": {},
     "output_type": "execute_result"
    }
   ],
   "source": [
    "import pandas as pd\n",
    "import numpy as np\n",
    "\n",
    "df = pd.io.parsers.read_csv(\n",
    "    '/home/alexfrancow/AAA/ransomware2s.csv',\n",
    "     header=None\n",
    "    )\n",
    "\n",
    "\n",
    "pcapData = pd.read_csv('/home/alexfrancow/AAA/ransomware2s.csv')\n",
    "pcapData.columns = ['no', 'time', 'X', 'A', 'ipsrc', 'ipdst', 'proto', 'len']\n",
    "pcapData['info'] = \"null\"\n",
    "pcapData.parse_dates=[\"time\"]\n",
    "\n",
    "pcapData['num'] = 1\n",
    "df = pcapData\n",
    "df.head(3)\n",
    "\n"
   ]
  },
  {
   "cell_type": "markdown",
   "metadata": {},
   "source": [
    "## 2. Agrupación de datos"
   ]
  },
  {
   "cell_type": "code",
   "execution_count": 146,
   "metadata": {},
   "outputs": [
    {
     "name": "stdout",
     "output_type": "stream",
     "text": [
      "CPU times: user 3.2 s, sys: 0 ns, total: 3.2 s\n",
      "Wall time: 3.27 s\n"
     ]
    },
    {
     "data": {
      "text/html": [
       "<div>\n",
       "<style>\n",
       "    .dataframe thead tr:only-child th {\n",
       "        text-align: right;\n",
       "    }\n",
       "\n",
       "    .dataframe thead th {\n",
       "        text-align: left;\n",
       "    }\n",
       "\n",
       "    .dataframe tbody tr th {\n",
       "        vertical-align: top;\n",
       "    }\n",
       "</style>\n",
       "<table border=\"1\" class=\"dataframe\">\n",
       "  <thead>\n",
       "    <tr style=\"text-align: right;\">\n",
       "      <th></th>\n",
       "      <th>ipdst</th>\n",
       "      <th>proto</th>\n",
       "      <th>time</th>\n",
       "      <th>count</th>\n",
       "    </tr>\n",
       "  </thead>\n",
       "  <tbody>\n",
       "    <tr>\n",
       "      <th>0</th>\n",
       "      <td>10.3.20.102</td>\n",
       "      <td>HTTP</td>\n",
       "      <td>2017-03-20 17:08:55</td>\n",
       "      <td>3</td>\n",
       "    </tr>\n",
       "    <tr>\n",
       "      <th>7</th>\n",
       "      <td>10.3.20.102</td>\n",
       "      <td>HTTP</td>\n",
       "      <td>2017-03-20 17:09:30</td>\n",
       "      <td>1</td>\n",
       "    </tr>\n",
       "    <tr>\n",
       "      <th>8</th>\n",
       "      <td>10.3.20.102</td>\n",
       "      <td>TCP</td>\n",
       "      <td>2017-03-20 17:08:50</td>\n",
       "      <td>3</td>\n",
       "    </tr>\n",
       "    <tr>\n",
       "      <th>9</th>\n",
       "      <td>10.3.20.102</td>\n",
       "      <td>TCP</td>\n",
       "      <td>2017-03-20 17:08:55</td>\n",
       "      <td>104</td>\n",
       "    </tr>\n",
       "    <tr>\n",
       "      <th>10</th>\n",
       "      <td>10.3.20.102</td>\n",
       "      <td>TCP</td>\n",
       "      <td>2017-03-20 17:09:00</td>\n",
       "      <td>204</td>\n",
       "    </tr>\n",
       "  </tbody>\n",
       "</table>\n",
       "</div>"
      ],
      "text/plain": [
       "          ipdst proto                time  count\n",
       "0   10.3.20.102  HTTP 2017-03-20 17:08:55      3\n",
       "7   10.3.20.102  HTTP 2017-03-20 17:09:30      1\n",
       "8   10.3.20.102   TCP 2017-03-20 17:08:50      3\n",
       "9   10.3.20.102   TCP 2017-03-20 17:08:55    104\n",
       "10  10.3.20.102   TCP 2017-03-20 17:09:00    204"
      ]
     },
     "execution_count": 146,
     "metadata": {},
     "output_type": "execute_result"
    }
   ],
   "source": [
    "df['time'] = pd.to_datetime(df['time'])\n",
    "df.index = df['time']\n",
    "data = df.copy()\n",
    "\n",
    "\n",
    "dataGroup = pd.DataFrame({'count': data.groupby(['ipdst', 'proto', data.index]).size()}).reset_index()\n",
    "pd.options.display.float_format = '{:,.0f}'.format\n",
    "dataGroup.index = dataGroup['time']\n",
    "\n",
    "%time dataGroup2 = dataGroup.groupby(['ipdst','proto']).resample('5S', on='time').sum().reset_index().dropna()\n",
    "dataGroup2 = dataGroup2.head(5)\n",
    "dataGroup2\n"
   ]
  },
  {
   "cell_type": "markdown",
   "metadata": {},
   "source": [
    "## 3. Normalización de datos\n",
    "http://sebastianraschka.com/Articles/2014_about_feature_scaling.html#about-min-max-scaling "
   ]
  },
  {
   "cell_type": "code",
   "execution_count": 147,
   "metadata": {},
   "outputs": [
    {
     "data": {
      "text/html": [
       "<div>\n",
       "<style>\n",
       "    .dataframe thead tr:only-child th {\n",
       "        text-align: right;\n",
       "    }\n",
       "\n",
       "    .dataframe thead th {\n",
       "        text-align: left;\n",
       "    }\n",
       "\n",
       "    .dataframe tbody tr th {\n",
       "        vertical-align: top;\n",
       "    }\n",
       "</style>\n",
       "<table border=\"1\" class=\"dataframe\">\n",
       "  <thead>\n",
       "    <tr style=\"text-align: right;\">\n",
       "      <th></th>\n",
       "      <th>count</th>\n",
       "      <th>count_n</th>\n",
       "    </tr>\n",
       "  </thead>\n",
       "  <tbody>\n",
       "    <tr>\n",
       "      <th>0</th>\n",
       "      <td>3</td>\n",
       "      <td>0</td>\n",
       "    </tr>\n",
       "    <tr>\n",
       "      <th>7</th>\n",
       "      <td>1</td>\n",
       "      <td>0</td>\n",
       "    </tr>\n",
       "    <tr>\n",
       "      <th>8</th>\n",
       "      <td>3</td>\n",
       "      <td>0</td>\n",
       "    </tr>\n",
       "    <tr>\n",
       "      <th>9</th>\n",
       "      <td>104</td>\n",
       "      <td>1</td>\n",
       "    </tr>\n",
       "    <tr>\n",
       "      <th>10</th>\n",
       "      <td>204</td>\n",
       "      <td>1</td>\n",
       "    </tr>\n",
       "  </tbody>\n",
       "</table>\n",
       "</div>"
      ],
      "text/plain": [
       "    count  count_n\n",
       "0       3        0\n",
       "7       1        0\n",
       "8       3        0\n",
       "9     104        1\n",
       "10    204        1"
      ]
     },
     "execution_count": 147,
     "metadata": {},
     "output_type": "execute_result"
    }
   ],
   "source": [
    "dataNorm = dataGroup2.copy()\n",
    "dataNorm['count_n'] = (dataGroup2['count'] - dataGroup2['count'].min()) / (dataGroup2['count'].max() - dataGroup2['count'].min())\n",
    "dataNorm = data_normalized1.head(5)\n",
    "dataNorm"
   ]
  },
  {
   "cell_type": "code",
   "execution_count": 124,
   "metadata": {},
   "outputs": [
    {
     "data": {
      "image/png": "[encoded data removed]",
      "text/plain": [
       "<matplotlib.figure.Figure at 0x7ff8261dd518>"
      ]
     },
     "metadata": {},
     "output_type": "display_data"
    }
   ],
   "source": [
    "%matplotlib inline\n",
    "\n",
    "from matplotlib import pyplot as plt\n",
    "\n",
    "def plot():\n",
    "    plt.figure(figsize=(8,6))\n",
    "\n",
    "    plt.scatter(dataGroup2['count'], dataGroup2['count'],\n",
    "            color='green', label='input scale', alpha=0.5)\n",
    "        \n",
    "    plt.scatter(dataNorm['count_n'], dataNorm['count_n'],\n",
    "            color='blue', label='min-max scaled [min=0, max=1]', alpha=0.3)\n",
    "    \n",
    "    plt.legend(loc='upper left')\n",
    "    plt.grid()\n",
    "\n",
    "    plt.tight_layout()\n",
    "\n",
    "plot()\n",
    "plt.show()\n"
   ]
  },
  {
   "cell_type": "markdown",
   "metadata": {},
   "source": [
    "### 3.1 Vanilla Python"
   ]
  },
  {
   "cell_type": "code",
   "execution_count": 125,
   "metadata": {},
   "outputs": [
    {
     "name": "stdout",
     "output_type": "stream",
     "text": [
      "[-0.74299773604806973, -0.76776432724967203, -0.74299773604806973, 0.50771511963284766, 1.7460446797129638]\n",
      "[0.009852216748768473, 0.0, 0.009852216748768473, 0.5073891625615764, 1.0]\n"
     ]
    }
   ],
   "source": [
    "# Standardization\n",
    "\n",
    "x = dataGroup2['count']\n",
    "mean = sum(x)/len(x)\n",
    "std_dev = (1/len(x) * sum([ (x_i - mean)**2 for x_i in x]))**0.5\n",
    "\n",
    "z_scores = [(x_i - mean)/std_dev for x_i in x]\n",
    "print(z_scores)\n",
    "# Min-Max scaling\n",
    "\n",
    "minmax = [(x_i - min(x)) / (max(x) - min(x)) for x_i in x]\n",
    "print(minmax)"
   ]
  },
  {
   "cell_type": "markdown",
   "metadata": {},
   "source": [
    "### 3.2 NumPy"
   ]
  },
  {
   "cell_type": "code",
   "execution_count": 126,
   "metadata": {},
   "outputs": [
    {
     "name": "stdout",
     "output_type": "stream",
     "text": [
      "[-0.74299774 -0.76776433 -0.74299774  0.50771512  1.74604468]\n",
      "[ 0.00985222  0.          0.00985222  0.50738916  1.        ]\n"
     ]
    }
   ],
   "source": [
    "import numpy as np\n",
    "\n",
    "# Standardization\n",
    "\n",
    "x_np = np.asarray(x)\n",
    "z_scores_np = (x_np - x_np.mean()) / x_np.std()\n",
    "print(z_scores_np)\n",
    "\n",
    "# Min-Max scaling\n",
    "\n",
    "np_minmax = (x_np - x_np.min()) / (x_np.max() - x_np.min())\n",
    "print(np_minmax)"
   ]
  },
  {
   "cell_type": "markdown",
   "metadata": {},
   "source": [
    "### 3.3 Visualization"
   ]
  },
  {
   "cell_type": "code",
   "execution_count": 127,
   "metadata": {},
   "outputs": [
    {
     "data": {
      "image/png": "[encoded data removed]",
      "text/plain": [
       "<matplotlib.figure.Figure at 0x7ff816789668>"
      ]
     },
     "metadata": {},
     "output_type": "display_data"
    }
   ],
   "source": [
    "from matplotlib import pyplot as plt\n",
    "\n",
    "fig, ((ax1, ax2), (ax3, ax4)) = plt.subplots(nrows=2, ncols=2, figsize=(10,5))\n",
    "\n",
    "y_pos = [0 for i in range(len(x))]\n",
    "\n",
    "ax1.scatter(z_scores, y_pos, color='g')\n",
    "ax1.set_title('Python standardization', color='g')\n",
    "\n",
    "ax2.scatter(minmax, y_pos, color='g')\n",
    "ax2.set_title('Python Min-Max scaling', color='g')\n",
    "\n",
    "ax3.scatter(z_scores_np, y_pos, color='b')\n",
    "ax3.set_title('Python NumPy standardization', color='b')\n",
    "\n",
    "ax4.scatter(np_minmax, y_pos, color='b')\n",
    "ax4.set_title('Python NumPy Min-Max scaling', color='b')\n",
    "\n",
    "plt.tight_layout()\n",
    "\n",
    "for ax in (ax1, ax2, ax3, ax4):\n",
    "    ax.get_yaxis().set_visible(False)\n",
    "    ax.grid()\n",
    "\n",
    "plt.show()\n"
   ]
  },
  {
   "cell_type": "markdown",
   "metadata": {
    "collapsed": true
   },
   "source": [
    "## 4. Isolation Forest"
   ]
  },
  {
   "cell_type": "code",
   "execution_count": 148,
   "metadata": {},
   "outputs": [
    {
     "data": {
      "text/html": [
       "<div>\n",
       "<style>\n",
       "    .dataframe thead tr:only-child th {\n",
       "        text-align: right;\n",
       "    }\n",
       "\n",
       "    .dataframe thead th {\n",
       "        text-align: left;\n",
       "    }\n",
       "\n",
       "    .dataframe tbody tr th {\n",
       "        vertical-align: top;\n",
       "    }\n",
       "</style>\n",
       "<table border=\"1\" class=\"dataframe\">\n",
       "  <thead>\n",
       "    <tr style=\"text-align: right;\">\n",
       "      <th></th>\n",
       "      <th>ipdst</th>\n",
       "      <th>proto</th>\n",
       "      <th>time</th>\n",
       "      <th>count</th>\n",
       "      <th>prediction</th>\n",
       "    </tr>\n",
       "  </thead>\n",
       "  <tbody>\n",
       "    <tr>\n",
       "      <th>0</th>\n",
       "      <td>10.3.20.102</td>\n",
       "      <td>HTTP</td>\n",
       "      <td>2017-03-20 17:08:55</td>\n",
       "      <td>3</td>\n",
       "      <td>1</td>\n",
       "    </tr>\n",
       "    <tr>\n",
       "      <th>7</th>\n",
       "      <td>10.3.20.102</td>\n",
       "      <td>HTTP</td>\n",
       "      <td>2017-03-20 17:09:30</td>\n",
       "      <td>1</td>\n",
       "      <td>1</td>\n",
       "    </tr>\n",
       "    <tr>\n",
       "      <th>8</th>\n",
       "      <td>10.3.20.102</td>\n",
       "      <td>TCP</td>\n",
       "      <td>2017-03-20 17:08:50</td>\n",
       "      <td>3</td>\n",
       "      <td>1</td>\n",
       "    </tr>\n",
       "    <tr>\n",
       "      <th>9</th>\n",
       "      <td>10.3.20.102</td>\n",
       "      <td>TCP</td>\n",
       "      <td>2017-03-20 17:08:55</td>\n",
       "      <td>104</td>\n",
       "      <td>1</td>\n",
       "    </tr>\n",
       "    <tr>\n",
       "      <th>10</th>\n",
       "      <td>10.3.20.102</td>\n",
       "      <td>TCP</td>\n",
       "      <td>2017-03-20 17:09:00</td>\n",
       "      <td>204</td>\n",
       "      <td>-1</td>\n",
       "    </tr>\n",
       "  </tbody>\n",
       "</table>\n",
       "</div>"
      ],
      "text/plain": [
       "          ipdst proto                time  count  prediction\n",
       "0   10.3.20.102  HTTP 2017-03-20 17:08:55      3           1\n",
       "7   10.3.20.102  HTTP 2017-03-20 17:09:30      1           1\n",
       "8   10.3.20.102   TCP 2017-03-20 17:08:50      3           1\n",
       "9   10.3.20.102   TCP 2017-03-20 17:08:55    104           1\n",
       "10  10.3.20.102   TCP 2017-03-20 17:09:00    204          -1"
      ]
     },
     "execution_count": 148,
     "metadata": {},
     "output_type": "execute_result"
    }
   ],
   "source": [
    "from sklearn.pipeline import Pipeline\n",
    "from sklearn.ensemble import IsolationForest\n",
    "\n",
    "dataNorm = dataNorm[['count','count_n']]\n",
    "datatrain = dataNorm.iloc[0:5]\n",
    "\n",
    "iforest = IsolationForest(n_estimators=100, contamination=0.00001, max_samples=5)\n",
    "iforest.fit(datatrain)\n",
    "clf = iforest.fit(datatrain)\n",
    "prediction = iforest.predict(data_normalized1)\n",
    "\n",
    "dataGroup2['prediction'] = prediction\n",
    "dataGroup2"
   ]
  },
  {
   "cell_type": "markdown",
   "metadata": {},
   "source": [
    "## Plot Isolation Forest"
   ]
  },
  {
   "cell_type": "code",
   "execution_count": 129,
   "metadata": {},
   "outputs": [
    {
     "data": {
      "text/plain": [
       "<matplotlib.legend.Legend at 0x7ff816af5550>"
      ]
     },
     "execution_count": 129,
     "metadata": {},
     "output_type": "execute_result"
    },
    {
     "data": {
      "image/png": "[encoded data removed]",
      "text/plain": [
       "<matplotlib.figure.Figure at 0x7ff816a23240>"
      ]
     },
     "metadata": {},
     "output_type": "display_data"
    }
   ],
   "source": [
    "x = dataGroup2[(dataGroup2['prediction'] == -1)]['count'].values\n",
    "\n",
    "fig, ax = plt.subplots()\n",
    "ax.scatter(dataGroup2['count'], dataGroup2['count'], s=6, label=\"inliers\")\n",
    "ax.scatter(x, x, marker=\"x\", color=\"r\", label=\"outliers\")\n",
    "ax.legend(loc=\"lower right\")"
   ]
  },
  {
   "cell_type": "code",
   "execution_count": null,
   "metadata": {},
   "outputs": [],
   "source": []
  },
  {
   "cell_type": "code",
   "execution_count": null,
   "metadata": {
    "collapsed": true
   },
   "outputs": [],
   "source": []
  }
 ],
 "metadata": {
  "kernelspec": {
   "display_name": "Python 2",
   "language": "python",
   "name": "python2"
  },
  "language_info": {
   "codemirror_mode": {
    "name": "ipython",
    "version": 3
   },
   "file_extension": ".py",
   "mimetype": "text/x-python",
   "name": "python",
   "nbconvert_exporter": "python",
   "pygments_lexer": "ipython3",
   "version": "3.6.0"
  }
 },
 "nbformat": 4,
 "nbformat_minor": 2
}
